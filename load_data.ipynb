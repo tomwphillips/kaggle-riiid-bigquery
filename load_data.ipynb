{
  "nbformat": 4,
  "nbformat_minor": 0,
  "metadata": {
    "colab": {
      "name": "load_data.ipynb",
      "provenance": [],
      "collapsed_sections": [],
      "authorship_tag": "ABX9TyN/C9rGBVi+Iei9BJoHBBPF",
      "include_colab_link": true
    },
    "kernelspec": {
      "name": "python3",
      "display_name": "Python 3"
    }
  },
  "cells": [
    {
      "cell_type": "markdown",
      "metadata": {
        "id": "view-in-github",
        "colab_type": "text"
      },
      "source": [
        "<a href=\"https://colab.research.google.com/github/tomwphillips/kaggle-riiid-bigquery/blob/main/load_data.ipynb\" target=\"_parent\"><img src=\"https://colab.research.google.com/assets/colab-badge.svg\" alt=\"Open In Colab\"/></a>"
      ]
    },
    {
      "cell_type": "code",
      "metadata": {
        "id": "6DGYnC_K6dOe"
      },
      "source": [
        "from google.colab import auth\n",
        "auth.authenticate_user()\n",
        "print('Authenticated')"
      ],
      "execution_count": null,
      "outputs": []
    },
    {
      "cell_type": "code",
      "metadata": {
        "id": "8T7WJeYi6h47"
      },
      "source": [
        "!pip install kaggle"
      ],
      "execution_count": null,
      "outputs": []
    },
    {
      "cell_type": "code",
      "metadata": {
        "id": "UzAKM4Hn5Gha",
        "cellView": "form"
      },
      "source": [
        "KAGGLE_USERNAME = \"\" #@param {type:\"string\"}\n",
        "KAGGLE_KEY = \"\" #@param {type:\"string\"}\n",
        "PROJECT_ID =  \"\" #@param {type:\"string\"}\n",
        "DATASET_ID = \"\" #@param {type:\"string\"}\n",
        "\n",
        "import os\n",
        "\n",
        "os.environ['KAGGLE_USERNAME'] = KAGGLE_USERNAME\n",
        "os.environ['KAGGLE_KEY'] = KAGGLE_KEY\n",
        "os.environ['PROJECT_ID'] = PROJECT_ID\n",
        "os.environ['DATASET_ID'] = DATASET_ID"
      ],
      "execution_count": null,
      "outputs": []
    },
    {
      "cell_type": "code",
      "metadata": {
        "id": "Hgdb2Pq76o1n"
      },
      "source": [
        "!kaggle competitions download -c riiid-test-answer-prediction"
      ],
      "execution_count": null,
      "outputs": []
    },
    {
      "cell_type": "code",
      "metadata": {
        "id": "lyVJ5wwE7k8c"
      },
      "source": [
        "!unzip /content/train.csv.zip"
      ],
      "execution_count": null,
      "outputs": []
    },
    {
      "cell_type": "code",
      "metadata": {
        "id": "NrbJEX3n752M"
      },
      "source": [
        "!bq load --project_id \"$PROJECT_ID\" --source_format CSV --autodetect \"$PROJECT_ID\":\"$DATASET_ID\".train /content/train.csv"
      ],
      "execution_count": null,
      "outputs": []
    },
    {
      "cell_type": "code",
      "metadata": {
        "id": "5YFisEsYBJKh"
      },
      "source": [
        "!bq load --project_id \"$PROJECT_ID\" --source_format CSV --autodetect \"$PROJECT_ID\":\"$DATASET_ID\".lectures /content/lectures.csv"
      ],
      "execution_count": null,
      "outputs": []
    },
    {
      "cell_type": "code",
      "metadata": {
        "id": "EuZK_OwJBQJt"
      },
      "source": [
        "!bq load --project_id \"$PROJECT_ID\" --source_format CSV --autodetect \"$PROJECT_ID\":\"$DATASET_ID\".questions /content/questions.csv"
      ],
      "execution_count": null,
      "outputs": []
    }
  ]
}